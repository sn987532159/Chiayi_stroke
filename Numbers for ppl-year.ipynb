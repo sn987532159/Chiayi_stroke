{
 "cells": [
  {
   "cell_type": "code",
   "execution_count": 1,
   "metadata": {},
   "outputs": [],
   "source": [
    "import pandas as pd\n",
    "import warnings\n",
    "warnings.filterwarnings(\"ignore\")"
   ]
  },
  {
   "cell_type": "code",
   "execution_count": 2,
   "metadata": {},
   "outputs": [],
   "source": [
    "mort = pd.read_csv(\"(v4)Cox_Patient_Score_Mort.csv\")[[\"LOC\", \"SurvivalDays\", \"Mortality\", \"Mort_Score_Top5\"]]\n",
    "mort_all = mort[mort[\"LOC\"].isin([\"2\", \"3\", \"6\", \"8\"])]"
   ]
  },
  {
   "cell_type": "code",
   "execution_count": 3,
   "metadata": {},
   "outputs": [
    {
     "data": {
      "text/plain": [
       "80.38815404511955"
      ]
     },
     "execution_count": 3,
     "metadata": {},
     "output_type": "execute_result"
    }
   ],
   "source": [
    "mort_all[\"SurvivalYears\"] = mort_all[\"SurvivalDays\"] / 365\n",
    "mort_all_ppl_year = sum(mort_all[\"Mortality\"]) / (mort_all[\"SurvivalYears\"].sum()) * 1000\n",
    "mort_all_ppl_year"
   ]
  },
  {
   "cell_type": "code",
   "execution_count": 4,
   "metadata": {},
   "outputs": [
    {
     "data": {
      "text/plain": [
       "5.0"
      ]
     },
     "execution_count": 4,
     "metadata": {},
     "output_type": "execute_result"
    }
   ],
   "source": [
    "mort_all[\"Mort_Score_Top5\"].median()"
   ]
  },
  {
   "cell_type": "code",
   "execution_count": 5,
   "metadata": {},
   "outputs": [
    {
     "data": {
      "text/plain": [
       "1.0809299725108326"
      ]
     },
     "execution_count": 5,
     "metadata": {},
     "output_type": "execute_result"
    }
   ],
   "source": [
    "len(mort_all[mort_all[\"Mort_Score_Top5\"] > 10]) / len(mort_all) * 100"
   ]
  },
  {
   "cell_type": "code",
   "execution_count": 6,
   "metadata": {},
   "outputs": [
    {
     "data": {
      "text/plain": [
       "973.5379521475777"
      ]
     },
     "execution_count": 6,
     "metadata": {},
     "output_type": "execute_result"
    }
   ],
   "source": [
    "mort_all_subgroup = mort_all[mort_all[\"Mort_Score_Top5\"] > 10]\n",
    "mort_all_subgroup[\"SurvivalYears\"] = mort_all_subgroup[\"SurvivalDays\"] / 365\n",
    "mort_all_subgroup = sum(mort_all_subgroup[\"Mortality\"]) / (mort_all_subgroup[\"SurvivalYears\"].sum()) * 1000\n",
    "mort_all_subgroup"
   ]
  },
  {
   "cell_type": "code",
   "execution_count": 7,
   "metadata": {},
   "outputs": [
    {
     "data": {
      "text/plain": [
       "31.607187825966733"
      ]
     },
     "execution_count": 7,
     "metadata": {},
     "output_type": "execute_result"
    }
   ],
   "source": [
    "mort_all_subgroup = mort_all[mort_all[\"Mort_Score_Top5\"] <=5]\n",
    "mort_all_subgroup[\"SurvivalYears\"] = mort_all_subgroup[\"SurvivalDays\"] / 365\n",
    "mort_all_subgroup = sum(mort_all_subgroup[\"Mortality\"]) / (mort_all_subgroup[\"SurvivalYears\"].sum()) * 1000\n",
    "mort_all_subgroup"
   ]
  },
  {
   "cell_type": "code",
   "execution_count": 8,
   "metadata": {},
   "outputs": [],
   "source": [
    "mort_subgroup = mort_all[mort_all[\"Mort_Score_Top5\"] >=12]\n",
    "mort_training = mort_subgroup[mort_subgroup[\"LOC\"].isin([\"2\", \"3\", \"6\"])]\n",
    "mort_test = mort_subgroup[mort_subgroup[\"LOC\"].isin([\"8\"])]\n",
    "mort_all = mort_subgroup[mort_subgroup[\"LOC\"].isin([\"2\", \"3\", \"6\", \"8\"])]"
   ]
  },
  {
   "cell_type": "code",
   "execution_count": 9,
   "metadata": {},
   "outputs": [
    {
     "name": "stdout",
     "output_type": "stream",
     "text": [
      "30.5 66.0 57.0\n"
     ]
    }
   ],
   "source": [
    "print(mort_training[\"SurvivalDays\"].median(), mort_test[\"SurvivalDays\"].median(), mort_all[\"SurvivalDays\"].median())"
   ]
  },
  {
   "cell_type": "code",
   "execution_count": 10,
   "metadata": {},
   "outputs": [
    {
     "name": "stdout",
     "output_type": "stream",
     "text": [
      "92.10526315789474 88.88888888888889 91.07142857142857\n"
     ]
    }
   ],
   "source": [
    "print(sum(mort_training[\"Mortality\"]) / len(mort_training) * 100, sum(mort_test[\"Mortality\"]) / len(mort_test) * 100, sum(mort_all[\"Mortality\"]) / len(mort_all) * 100)"
   ]
  },
  {
   "cell_type": "code",
   "execution_count": null,
   "metadata": {},
   "outputs": [],
   "source": []
  },
  {
   "cell_type": "code",
   "execution_count": 11,
   "metadata": {},
   "outputs": [],
   "source": [
    "cvd = pd.read_csv(\"(v4)Cox_Patient_Score_CVD.csv\")[[\"LOC\", \"SurvivalDays\", \"CVDeath\", \"CVD_Score_Top5\"]]\n",
    "cvd_all = cvd[cvd[\"LOC\"].isin([\"2\", \"3\", \"6\", \"8\"])]"
   ]
  },
  {
   "cell_type": "code",
   "execution_count": 12,
   "metadata": {},
   "outputs": [
    {
     "data": {
      "text/plain": [
       "33.72739381480408"
      ]
     },
     "execution_count": 12,
     "metadata": {},
     "output_type": "execute_result"
    }
   ],
   "source": [
    "cvd_all[\"SurvivalYears\"] = cvd_all[\"SurvivalDays\"] / 365\n",
    "cvd_all_ppl_year = sum(cvd_all[\"CVDeath\"]) / (cvd_all[\"SurvivalYears\"].sum()) * 1000\n",
    "cvd_all_ppl_year"
   ]
  },
  {
   "cell_type": "code",
   "execution_count": 13,
   "metadata": {},
   "outputs": [
    {
     "data": {
      "text/plain": [
       "5.0"
      ]
     },
     "execution_count": 13,
     "metadata": {},
     "output_type": "execute_result"
    }
   ],
   "source": [
    "cvd_all[\"CVD_Score_Top5\"].median()"
   ]
  },
  {
   "cell_type": "code",
   "execution_count": 14,
   "metadata": {},
   "outputs": [
    {
     "data": {
      "text/plain": [
       "2.346579112548887"
      ]
     },
     "execution_count": 14,
     "metadata": {},
     "output_type": "execute_result"
    }
   ],
   "source": [
    "len(cvd_all[cvd_all[\"CVD_Score_Top5\"] > 10]) / len(cvd_all) * 100"
   ]
  },
  {
   "cell_type": "code",
   "execution_count": 15,
   "metadata": {},
   "outputs": [
    {
     "data": {
      "text/plain": [
       "492.41949316174595"
      ]
     },
     "execution_count": 15,
     "metadata": {},
     "output_type": "execute_result"
    }
   ],
   "source": [
    "cvd_all_subgroup = cvd_all[cvd_all[\"CVD_Score_Top5\"] > 10]\n",
    "cvd_all_subgroup[\"SurvivalYears\"] = cvd_all_subgroup[\"SurvivalDays\"] / 365\n",
    "cvd_all_subgroup = sum(cvd_all_subgroup[\"CVDeath\"]) / (cvd_all_subgroup[\"SurvivalYears\"].sum()) * 1000\n",
    "cvd_all_subgroup"
   ]
  },
  {
   "cell_type": "code",
   "execution_count": 16,
   "metadata": {},
   "outputs": [
    {
     "data": {
      "text/plain": [
       "11.660195749260264"
      ]
     },
     "execution_count": 16,
     "metadata": {},
     "output_type": "execute_result"
    }
   ],
   "source": [
    "cvd_all_subgroup = cvd_all[cvd_all[\"CVD_Score_Top5\"] <= 5]\n",
    "cvd_all_subgroup[\"SurvivalYears\"] = cvd_all_subgroup[\"SurvivalDays\"] / 365\n",
    "cvd_all_subgroup = sum(cvd_all_subgroup[\"CVDeath\"]) / (cvd_all_subgroup[\"SurvivalYears\"].sum()) * 1000\n",
    "cvd_all_subgroup"
   ]
  },
  {
   "cell_type": "code",
   "execution_count": 17,
   "metadata": {},
   "outputs": [],
   "source": [
    "cvd_subgroup = cvd_all[cvd_all[\"CVD_Score_Top5\"] >=12]\n",
    "cvd_training = cvd_subgroup[cvd_subgroup[\"LOC\"].isin([\"2\", \"3\", \"6\"])]\n",
    "cvd_test = cvd_subgroup[cvd_subgroup[\"LOC\"].isin([\"8\"])]\n",
    "cvd_all = cvd_subgroup[cvd_subgroup[\"LOC\"].isin([\"2\", \"3\", \"6\", \"8\"])]"
   ]
  },
  {
   "cell_type": "code",
   "execution_count": 18,
   "metadata": {},
   "outputs": [
    {
     "name": "stdout",
     "output_type": "stream",
     "text": [
      "144.0 52.0 63.0\n"
     ]
    }
   ],
   "source": [
    "print(cvd_training[\"SurvivalDays\"].median(), cvd_test[\"SurvivalDays\"].median(), cvd_all[\"SurvivalDays\"].median())"
   ]
  },
  {
   "cell_type": "code",
   "execution_count": 19,
   "metadata": {},
   "outputs": [
    {
     "name": "stdout",
     "output_type": "stream",
     "text": [
      "61.66666666666667 61.904761904761905 61.72839506172839\n"
     ]
    }
   ],
   "source": [
    "print(sum(cvd_training[\"CVDeath\"]) / len(cvd_training) * 100, sum(cvd_test[\"CVDeath\"]) / len(cvd_test) * 100, sum(cvd_all[\"CVDeath\"]) / len(cvd_all) * 100)"
   ]
  },
  {
   "cell_type": "code",
   "execution_count": null,
   "metadata": {},
   "outputs": [],
   "source": []
  }
 ],
 "metadata": {
  "kernelspec": {
   "display_name": "Python 3",
   "language": "python",
   "name": "python3"
  },
  "language_info": {
   "codemirror_mode": {
    "name": "ipython",
    "version": 3
   },
   "file_extension": ".py",
   "mimetype": "text/x-python",
   "name": "python",
   "nbconvert_exporter": "python",
   "pygments_lexer": "ipython3",
   "version": "3.8.5"
  }
 },
 "nbformat": 4,
 "nbformat_minor": 4
}
